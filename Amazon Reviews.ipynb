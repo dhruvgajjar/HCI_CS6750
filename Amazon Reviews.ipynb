{
 "cells": [
  {
   "cell_type": "code",
   "execution_count": 149,
   "metadata": {},
   "outputs": [],
   "source": [
    "import re\n",
    "import requests\n",
    "from bs4 import BeautifulSoup\n",
    "import pandas as pd\n",
    "\n",
    "#Contains the header information in a dictionary\n",
    "headers = {\"User-Agent\":\"Mozilla/5.0 (Windows NT 10.0; Win64; x64) AppleWebKit/537.36 (KHTML, like Gecko) Chrome/87.0.4280.141 Safari/537.36\", \"Accept-Encoding\":\"gzip, deflate, br\", \"Accept\":\"text/html,application/xhtml+xml,application/xml;q=0.9,*/*;q=0.8\", \"DNT\":\"1\",\"Connection\":\"close\", \"Upgrade-Insecure-Requests\":\"1\"}\n",
    "\n",
    "#Performs the web request\n",
    "reviews=[] \n",
    "stars=[]\n",
    "ids=[]\n",
    "keywords=['ui','interface','ux','os','navigate','search']\n",
    "\n",
    "for keyword in keywords:\n",
    "    for i in range(30):\n",
    "        AmazonResponse = requests.get(\"https://www.amazon.com/product-reviews/B079QHML21/ref=cm_cr_arp_d_viewopt_kywd?ie=UTF8&reviewerType=avp_only_reviews&filterByKeyword=\"+keyword+\"&pageNumber=\"+str(i), headers=headers)\n",
    "        soup=BeautifulSoup(AmazonResponse.content)\n",
    "        for j in soup.findAll(\"i\",{'data-hook':\"review-star-rating\"}):\n",
    "            stars.append(int(j.text[0]))\n",
    "        for k in soup.findAll(\"span\",{'data-hook':\"review-body\"}):\n",
    "            reviews.append(k.text.replace('\\n\\n ',''))\n",
    "        for x in soup.findAll(\"div\",{\"class\":\"a-section a-spacing-none review-comments\"}):\n",
    "            ids.append(str(x).replace('<div class=\"a-section a-spacing-none review-comments\" id=\"','').replace('\"></div>',''))\n",
    "        \n",
    "\n",
    "  \n",
    "rev_hci={'cust_id':ids,'reviews':reviews,'stars':stars} #converting the reviews list into a dictionary\n",
    "review_data_hci=pd.DataFrame.from_dict(rev_hci).drop_duplicates() #converting this dictionary into a dataframe\n",
    "review_data_hci.to_csv('Scraping reviews hci.csv',index=False)\n",
    "\n",
    "\n"
   ]
  },
  {
   "cell_type": "code",
   "execution_count": 155,
   "metadata": {},
   "outputs": [],
   "source": [
    "reviews=[] \n",
    "stars=[]\n",
    "ids=[]\n",
    "\n",
    "for i in range(161):\n",
    "    AmazonResponse = requests.get(\"https://www.amazon.com/product-reviews/B079QHML21/ref=cm_cr_arp_d_viewopt_kywd?ie=UTF8&reviewerType=avp_only_reviews&pageNumber=\"+str(i), headers=headers)\n",
    "    soup=BeautifulSoup(AmazonResponse.content)\n",
    "    for j in soup.findAll(\"i\",{'data-hook':\"review-star-rating\"}):\n",
    "        stars.append(int(j.text[0]))\n",
    "    for k in soup.findAll(\"span\",{'data-hook':\"review-body\"}):\n",
    "        reviews.append(k.text.replace('\\n\\n ',''))\n",
    "    for x in soup.findAll(\"div\",{\"class\":\"a-section a-spacing-none review-comments\"}):\n",
    "            ids.append(str(x).replace('<div class=\"a-section a-spacing-none review-comments\" id=\"','').replace('\"></div>',''))\n",
    "\n",
    "\n",
    "rev_overall={'cust_id':ids,'reviews':reviews,'stars':stars} #converting the reviews list into a dictionary\n",
    "review_data_overall=pd.DataFrame.from_dict(rev_overall) #converting this dictionary into a dataframe\n",
    "review_data_overall.to_csv('Scraping reviews overall.csv',index=False)"
   ]
  },
  {
   "cell_type": "code",
   "execution_count": 156,
   "metadata": {},
   "outputs": [
    {
     "data": {
      "text/plain": [
       "stars\n",
       "1    127\n",
       "2     81\n",
       "3    157\n",
       "4    201\n",
       "5    508\n",
       "dtype: int64"
      ]
     },
     "execution_count": 156,
     "metadata": {},
     "output_type": "execute_result"
    }
   ],
   "source": [
    "review_data_hci.groupby(['stars']).size()"
   ]
  },
  {
   "cell_type": "code",
   "execution_count": 5,
   "metadata": {},
   "outputs": [
    {
     "ename": "NameError",
     "evalue": "name 'review_data_overall' is not defined",
     "output_type": "error",
     "traceback": [
      "\u001b[1;31m---------------------------------------------------------------------------\u001b[0m",
      "\u001b[1;31mNameError\u001b[0m                                 Traceback (most recent call last)",
      "\u001b[1;32m<ipython-input-5-ecde523daefd>\u001b[0m in \u001b[0;36m<module>\u001b[1;34m\u001b[0m\n\u001b[1;32m----> 1\u001b[1;33m \u001b[0mreview_data_overall\u001b[0m\u001b[1;33m.\u001b[0m\u001b[0mgroupby\u001b[0m\u001b[1;33m(\u001b[0m\u001b[1;33m[\u001b[0m\u001b[1;34m'stars'\u001b[0m\u001b[1;33m]\u001b[0m\u001b[1;33m)\u001b[0m\u001b[1;33m.\u001b[0m\u001b[0msize\u001b[0m\u001b[1;33m(\u001b[0m\u001b[1;33m)\u001b[0m\u001b[1;33m\u001b[0m\u001b[1;33m\u001b[0m\u001b[0m\n\u001b[0m",
      "\u001b[1;31mNameError\u001b[0m: name 'review_data_overall' is not defined"
     ]
    }
   ],
   "source": [
    "review_data_overall.groupby(['stars']).size()"
   ]
  },
  {
   "cell_type": "code",
   "execution_count": 163,
   "metadata": {},
   "outputs": [
    {
     "data": {
      "text/html": [
       "<div>\n",
       "<style scoped>\n",
       "    .dataframe tbody tr th:only-of-type {\n",
       "        vertical-align: middle;\n",
       "    }\n",
       "\n",
       "    .dataframe tbody tr th {\n",
       "        vertical-align: top;\n",
       "    }\n",
       "\n",
       "    .dataframe thead th {\n",
       "        text-align: right;\n",
       "    }\n",
       "</style>\n",
       "<table border=\"1\" class=\"dataframe\">\n",
       "  <thead>\n",
       "    <tr style=\"text-align: right;\">\n",
       "      <th></th>\n",
       "      <th>cust_id</th>\n",
       "      <th>reviews</th>\n",
       "      <th>stars</th>\n",
       "    </tr>\n",
       "  </thead>\n",
       "  <tbody>\n",
       "    <tr>\n",
       "      <th>859</th>\n",
       "      <td>R271DIO3H602RU</td>\n",
       "      <td>I have this Fire stick because Amazon would n...</td>\n",
       "      <td>3</td>\n",
       "    </tr>\n",
       "    <tr>\n",
       "      <th>602</th>\n",
       "      <td>RBL7UMWV85O9L</td>\n",
       "      <td>||| UPDATE ||| This might not work for youWhe...</td>\n",
       "      <td>3</td>\n",
       "    </tr>\n",
       "    <tr>\n",
       "      <th>1462</th>\n",
       "      <td>RIV2SP8UGES2I</td>\n",
       "      <td>The remote on this thing lacks decent rewind/...</td>\n",
       "      <td>3</td>\n",
       "    </tr>\n",
       "    <tr>\n",
       "      <th>999</th>\n",
       "      <td>R1VNESGY3A0FOX</td>\n",
       "      <td>Likes1. Easy to setup2. Easy to navigate3. Gr...</td>\n",
       "      <td>3</td>\n",
       "    </tr>\n",
       "    <tr>\n",
       "      <th>903</th>\n",
       "      <td>R3VNO4CK5ZMB2X</td>\n",
       "      <td>PROBLEM: Too Wide, DC connection and AppsDISC...</td>\n",
       "      <td>3</td>\n",
       "    </tr>\n",
       "    <tr>\n",
       "      <th>767</th>\n",
       "      <td>R36QTXO0KLFWPX</td>\n",
       "      <td>I initially had objections to the way the int...</td>\n",
       "      <td>2</td>\n",
       "    </tr>\n",
       "    <tr>\n",
       "      <th>1341</th>\n",
       "      <td>R2QT5V2BN8VR4H</td>\n",
       "      <td>Update May 6, 2019 - As we use the Fire Stick...</td>\n",
       "      <td>3</td>\n",
       "    </tr>\n",
       "    <tr>\n",
       "      <th>1378</th>\n",
       "      <td>R345PDJ95EFQ3Z</td>\n",
       "      <td>It's almost 2021.  Amazon Prime video has an ...</td>\n",
       "      <td>2</td>\n",
       "    </tr>\n",
       "    <tr>\n",
       "      <th>1258</th>\n",
       "      <td>R1KB64NFK2ZYBZ</td>\n",
       "      <td>Works great, but there are preinstalled aps a...</td>\n",
       "      <td>2</td>\n",
       "    </tr>\n",
       "    <tr>\n",
       "      <th>531</th>\n",
       "      <td>R399512XQTHYBV</td>\n",
       "      <td>From the start, this device has given an HDCP...</td>\n",
       "      <td>2</td>\n",
       "    </tr>\n",
       "    <tr>\n",
       "      <th>1506</th>\n",
       "      <td>R2MCCSDXAKT1T8</td>\n",
       "      <td>I’ve been a long time Roku user and purchase ...</td>\n",
       "      <td>3</td>\n",
       "    </tr>\n",
       "    <tr>\n",
       "      <th>128</th>\n",
       "      <td>RCU1CHW0C9FV1</td>\n",
       "      <td>I ordered this new 4K Stick after reading all...</td>\n",
       "      <td>2</td>\n",
       "    </tr>\n",
       "    <tr>\n",
       "      <th>189</th>\n",
       "      <td>R22HLHHT9FQXQS</td>\n",
       "      <td>Unfortunately I tried to go from Apple TV 4k ...</td>\n",
       "      <td>3</td>\n",
       "    </tr>\n",
       "    <tr>\n",
       "      <th>148</th>\n",
       "      <td>R1TFMJYTN2FPLM</td>\n",
       "      <td>If you plan to use this to access your Fire T...</td>\n",
       "      <td>3</td>\n",
       "    </tr>\n",
       "    <tr>\n",
       "      <th>1175</th>\n",
       "      <td>R3AVGE50JSRIB7</td>\n",
       "      <td>Ive been using FireStick release 1 and 2 and ...</td>\n",
       "      <td>2</td>\n",
       "    </tr>\n",
       "    <tr>\n",
       "      <th>760</th>\n",
       "      <td>R3GLSSEEY04QGP</td>\n",
       "      <td>I  had previously used Roku  but I bought a n...</td>\n",
       "      <td>3</td>\n",
       "    </tr>\n",
       "    <tr>\n",
       "      <th>461</th>\n",
       "      <td>R3EKVJLWDCQDBL</td>\n",
       "      <td>I ordered what I thought was a new firestick ...</td>\n",
       "      <td>2</td>\n",
       "    </tr>\n",
       "    <tr>\n",
       "      <th>878</th>\n",
       "      <td>R4SU508S5KZJ</td>\n",
       "      <td>I bought this new Firestick because the one w...</td>\n",
       "      <td>3</td>\n",
       "    </tr>\n",
       "    <tr>\n",
       "      <th>633</th>\n",
       "      <td>R3RSG6O5EF9V11</td>\n",
       "      <td>See my review of YTTV.  I first cut the cord ...</td>\n",
       "      <td>3</td>\n",
       "    </tr>\n",
       "    <tr>\n",
       "      <th>1593</th>\n",
       "      <td>R338B9XCP7ZRLB</td>\n",
       "      <td>I have purchased the previous Fire Stick vers...</td>\n",
       "      <td>2</td>\n",
       "    </tr>\n",
       "  </tbody>\n",
       "</table>\n",
       "</div>"
      ],
      "text/plain": [
       "             cust_id                                            reviews  stars\n",
       "859   R271DIO3H602RU   I have this Fire stick because Amazon would n...      3\n",
       "602    RBL7UMWV85O9L   ||| UPDATE ||| This might not work for youWhe...      3\n",
       "1462   RIV2SP8UGES2I   The remote on this thing lacks decent rewind/...      3\n",
       "999   R1VNESGY3A0FOX   Likes1. Easy to setup2. Easy to navigate3. Gr...      3\n",
       "903   R3VNO4CK5ZMB2X   PROBLEM: Too Wide, DC connection and AppsDISC...      3\n",
       "767   R36QTXO0KLFWPX   I initially had objections to the way the int...      2\n",
       "1341  R2QT5V2BN8VR4H   Update May 6, 2019 - As we use the Fire Stick...      3\n",
       "1378  R345PDJ95EFQ3Z   It's almost 2021.  Amazon Prime video has an ...      2\n",
       "1258  R1KB64NFK2ZYBZ   Works great, but there are preinstalled aps a...      2\n",
       "531   R399512XQTHYBV   From the start, this device has given an HDCP...      2\n",
       "1506  R2MCCSDXAKT1T8   I’ve been a long time Roku user and purchase ...      3\n",
       "128    RCU1CHW0C9FV1   I ordered this new 4K Stick after reading all...      2\n",
       "189   R22HLHHT9FQXQS   Unfortunately I tried to go from Apple TV 4k ...      3\n",
       "148   R1TFMJYTN2FPLM   If you plan to use this to access your Fire T...      3\n",
       "1175  R3AVGE50JSRIB7   Ive been using FireStick release 1 and 2 and ...      2\n",
       "760   R3GLSSEEY04QGP   I  had previously used Roku  but I bought a n...      3\n",
       "461   R3EKVJLWDCQDBL   I ordered what I thought was a new firestick ...      2\n",
       "878     R4SU508S5KZJ   I bought this new Firestick because the one w...      3\n",
       "633   R3RSG6O5EF9V11   See my review of YTTV.  I first cut the cord ...      3\n",
       "1593  R338B9XCP7ZRLB   I have purchased the previous Fire Stick vers...      2"
      ]
     },
     "execution_count": 163,
     "metadata": {},
     "output_type": "execute_result"
    }
   ],
   "source": [
    "review_data_overall[(review_data_overall['stars']==3) | (review_data_overall['stars']==2)].sample(n = 15) "
   ]
  },
  {
   "cell_type": "code",
   "execution_count": 3,
   "metadata": {},
   "outputs": [],
   "source": [
    "from collections import Counter\n",
    "\n",
    "stopwords=['i','me','my','myself','we','our','ours','ourselves','you','your','yours','yourself','yourselves','he','him','his','himself','she','her','hers','herself','it','its','itself','they','them','their','theirs','themselves','what','which','who','whom','this','that','these','those','am','is','are','was','were','be','been','being','have','has','had','having','do','does','did','doing','a','an','the','and','but','if','or','because','as','until','while','of','at','by','for','with','about','against','between','into','through','during','before','after','above','below','to','from','up','down','in','out','on','off','over','under','again','further','then','once','here','there','when','where','why','how','all','any','both','each','few','more','most','other','some','such','no','nor','not','only','own','same','so','than','too','very','s','t','can','will','just','don','should','now']"
   ]
  },
  {
   "cell_type": "code",
   "execution_count": 4,
   "metadata": {},
   "outputs": [
    {
     "ename": "NameError",
     "evalue": "name 'review_data_overall' is not defined",
     "output_type": "error",
     "traceback": [
      "\u001b[1;31m---------------------------------------------------------------------------\u001b[0m",
      "\u001b[1;31mNameError\u001b[0m                                 Traceback (most recent call last)",
      "\u001b[1;32m<ipython-input-4-b617a9fef2fc>\u001b[0m in \u001b[0;36m<module>\u001b[1;34m\u001b[0m\n\u001b[1;32m----> 1\u001b[1;33m \u001b[0mCounter\u001b[0m\u001b[1;33m(\u001b[0m\u001b[1;34m\" \"\u001b[0m\u001b[1;33m.\u001b[0m\u001b[0mjoin\u001b[0m\u001b[1;33m(\u001b[0m\u001b[0mreview_data_overall\u001b[0m\u001b[1;33m[\u001b[0m\u001b[1;34m'reviews'\u001b[0m\u001b[1;33m]\u001b[0m\u001b[1;33m[\u001b[0m\u001b[1;33m(\u001b[0m\u001b[0mreview_data_overall\u001b[0m\u001b[1;33m[\u001b[0m\u001b[1;34m'stars'\u001b[0m\u001b[1;33m]\u001b[0m\u001b[1;33m==\u001b[0m\u001b[1;36m1\u001b[0m\u001b[1;33m)\u001b[0m\u001b[1;33m]\u001b[0m\u001b[1;33m)\u001b[0m\u001b[1;33m.\u001b[0m\u001b[0msplit\u001b[0m\u001b[1;33m(\u001b[0m\u001b[1;33m)\u001b[0m\u001b[1;33m)\u001b[0m\u001b[1;33m\u001b[0m\u001b[1;33m\u001b[0m\u001b[0m\n\u001b[0m",
      "\u001b[1;31mNameError\u001b[0m: name 'review_data_overall' is not defined"
     ]
    }
   ],
   "source": [
    "Counter(\" \".join(review_data_overall['reviews'][(review_data_overall['stars']==1)]).split())\n"
   ]
  },
  {
   "cell_type": "code",
   "execution_count": null,
   "metadata": {},
   "outputs": [],
   "source": []
  }
 ],
 "metadata": {
  "kernelspec": {
   "display_name": "Python 3",
   "language": "python",
   "name": "python3"
  },
  "language_info": {
   "codemirror_mode": {
    "name": "ipython",
    "version": 3
   },
   "file_extension": ".py",
   "mimetype": "text/x-python",
   "name": "python",
   "nbconvert_exporter": "python",
   "pygments_lexer": "ipython3",
   "version": "3.7.3"
  }
 },
 "nbformat": 4,
 "nbformat_minor": 2
}
