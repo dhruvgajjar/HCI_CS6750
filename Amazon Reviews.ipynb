{
 "cells": [
  {
   "cell_type": "code",
   "execution_count": 7,
   "metadata": {},
   "outputs": [],
   "source": [
    "import re\n",
    "import requests\n",
    "from bs4 import BeautifulSoup\n",
    "import pandas as pd\n",
    "\n",
    "#Contains the header information in a dictionary\n",
    "headers = {\"User-Agent\":\"Mozilla/5.0 (Windows NT 10.0; Win64; x64) AppleWebKit/537.36 (KHTML, like Gecko) Chrome/87.0.4280.141 Safari/537.36\", \"Accept-Encoding\":\"gzip, deflate, br\", \"Accept\":\"text/html,application/xhtml+xml,application/xml;q=0.9,*/*;q=0.8\", \"DNT\":\"1\",\"Connection\":\"close\", \"Upgrade-Insecure-Requests\":\"1\"}\n",
    "\n",
    "#Fire Tv Reviews by Interface and Search Features\n",
    "reviews=[] \n",
    "stars=[]\n",
    "ids=[]\n",
    "keywords=['ui','interface','ux','os','navigate','search']\n",
    "\n",
    "for keyword in keywords:\n",
    "    for i in range(15):\n",
    "        AmazonResponse = requests.get(\"https://www.amazon.com/product-reviews/B079QHML21/ref=cm_cr_arp_d_viewopt_kywd?ie=UTF8&reviewerType=avp_only_reviews&filterByKeyword=\"+keyword+\"&pageNumber=\"+str(i), headers=headers)\n",
    "        soup=BeautifulSoup(AmazonResponse.content)\n",
    "        for j in soup.findAll(\"i\",{'data-hook':\"review-star-rating\"}):\n",
    "            stars.append(int(j.text[0]))\n",
    "        for k in soup.findAll(\"span\",{'data-hook':\"review-body\"}):\n",
    "            reviews.append(k.text.replace('\\n\\n ',''))\n",
    "        for x in soup.findAll(\"div\",{\"class\":\"a-section a-spacing-none review-comments\"}):\n",
    "            ids.append(str(x).replace('<div class=\"a-section a-spacing-none review-comments\" id=\"','').replace('\"></div>',''))\n",
    "            \n",
    "    for i in range(15):\n",
    "        AmazonResponse = requests.get(\"https://www.amazon.com/product-reviews/B07ZZVX1F2/ref=cm_cr_arp_d_viewopt_kywd?ie=UTF8&reviewerType=avp_only_reviews&filterByKeyword=\"+keyword+\"&pageNumber=\"+str(i), headers=headers)\n",
    "        soup=BeautifulSoup(AmazonResponse.content)\n",
    "        for j in soup.findAll(\"i\",{'data-hook':\"review-star-rating\"}):\n",
    "            stars.append(int(j.text[0]))\n",
    "        for k in soup.findAll(\"span\",{'data-hook':\"review-body\"}):\n",
    "            reviews.append(k.text.replace('\\n\\n ',''))\n",
    "        for x in soup.findAll(\"div\",{\"class\":\"a-section a-spacing-none review-comments\"}):\n",
    "            ids.append(str(x).replace('<div class=\"a-section a-spacing-none review-comments\" id=\"','').replace('\"></div>',''))\n",
    "        \n",
    "\n",
    "  \n",
    "rev_hci={'cust_id':ids,'reviews':reviews,'stars':stars} #converting the reviews list into a dictionary\n",
    "review_data_hci=pd.DataFrame.from_dict(rev_hci).drop_duplicates() #converting this dictionary into a dataframe\n",
    "review_data_hci.to_csv('FireTV reviews Interface.csv',index=False)\n",
    "\n",
    "\n"
   ]
  },
  {
   "cell_type": "code",
   "execution_count": 34,
   "metadata": {},
   "outputs": [],
   "source": [
    "#Fire Tv Reviews Overall\n",
    "reviews=[] \n",
    "stars=[]\n",
    "ids=[]\n",
    "\n",
    "for i in range(70):\n",
    "    AmazonResponse = requests.get(\"https://www.amazon.com/product-reviews/B079QHML21/ref=cm_cr_arp_d_viewopt_kywd?ie=UTF8&reviewerType=avp_only_reviews&pageNumber=\"+str(i), headers=headers)\n",
    "    soup=BeautifulSoup(AmazonResponse.content)\n",
    "    for j in soup.findAll(\"i\",{'data-hook':\"review-star-rating\"}):\n",
    "        stars.append(int(j.text[0]))\n",
    "    for k in soup.findAll(\"span\",{'data-hook':\"review-body\"}):\n",
    "        reviews.append(k.text.replace('\\n\\n ',''))\n",
    "    for x in soup.findAll(\"div\",{\"class\":\"a-section a-spacing-none review-comments\"}):\n",
    "            ids.append(str(x).replace('<div class=\"a-section a-spacing-none review-comments\" id=\"','').replace('\"></div>',''))\n",
    "\n",
    "for i in range(70):\n",
    "    AmazonResponse = requests.get(\"https://www.amazon.com/product-reviews/B07ZZVX1F2/ref=cm_cr_arp_d_viewopt_kywd?ie=UTF8&reviewerType=avp_only_reviews&pageNumber=\"+str(i), headers=headers)\n",
    "    soup=BeautifulSoup(AmazonResponse.content)\n",
    "    for j in soup.findAll(\"i\",{'data-hook':\"review-star-rating\"}):\n",
    "        stars.append(int(j.text[0]))\n",
    "    for k in soup.findAll(\"span\",{'data-hook':\"review-body\"}):\n",
    "        reviews.append(k.text.replace('\\n\\n ',''))\n",
    "    for x in soup.findAll(\"div\",{\"class\":\"a-section a-spacing-none review-comments\"}):\n",
    "            ids.append(str(x).replace('<div class=\"a-section a-spacing-none review-comments\" id=\"','').replace('\"></div>',''))\n",
    "\n",
    "\n",
    "rev_overall={'cust_id':ids,'reviews':reviews,'stars':stars} #converting the reviews list into a dictionary\n",
    "review_data_overall=pd.DataFrame.from_dict(rev_overall).drop_duplicates() #converting this dictionary into a dataframe\n",
    "review_data_overall.to_csv('FireTV reviews overall.csv',index=False)"
   ]
  },
  {
   "cell_type": "code",
   "execution_count": 49,
   "metadata": {},
   "outputs": [],
   "source": [
    "#Fire Tv Reviews mentioning competitors\n",
    "reviews=[] \n",
    "stars=[]\n",
    "ids=[]\n",
    "keywords=['Chromecast','Roku','Apple TV']\n",
    "\n",
    "for keyword in keywords:\n",
    "    for i in range(30):\n",
    "        AmazonResponse = requests.get(\"https://www.amazon.com/product-reviews/B079QHML21/ref=cm_cr_arp_d_viewopt_kywd?ie=UTF8&reviewerType=avp_only_reviews&filterByKeyword=\"+keyword+\"&pageNumber=\"+str(i), headers=headers)\n",
    "        soup=BeautifulSoup(AmazonResponse.content)\n",
    "        for j in soup.findAll(\"i\",{'data-hook':\"review-star-rating\"}):\n",
    "            stars.append(int(j.text[0]))\n",
    "        for k in soup.findAll(\"span\",{'data-hook':\"review-body\"}):\n",
    "            reviews.append(k.text.replace('\\n\\n ',''))\n",
    "        for x in soup.findAll(\"div\",{\"class\":\"a-section a-spacing-none review-comments\"}):\n",
    "            ids.append(str(x).replace('<div class=\"a-section a-spacing-none review-comments\" id=\"','').replace('\"></div>',''))\n",
    "\n",
    "    for i in range(30):\n",
    "        AmazonResponse = requests.get(\"https://www.amazon.com/product-reviews/B07ZZVX1F2/ref=cm_cr_arp_d_viewopt_kywd?ie=UTF8&reviewerType=avp_only_reviews&filterByKeyword=\"+keyword+\"&pageNumber=\"+str(i), headers=headers)\n",
    "        soup=BeautifulSoup(AmazonResponse.content)\n",
    "        for j in soup.findAll(\"i\",{'data-hook':\"review-star-rating\"}):\n",
    "            stars.append(int(j.text[0]))\n",
    "        for k in soup.findAll(\"span\",{'data-hook':\"review-body\"}):\n",
    "            reviews.append(k.text.replace('\\n\\n ',''))\n",
    "        for x in soup.findAll(\"div\",{\"class\":\"a-section a-spacing-none review-comments\"}):\n",
    "            ids.append(str(x).replace('<div class=\"a-section a-spacing-none review-comments\" id=\"','').replace('\"></div>',''))\n",
    "        \n",
    "\n",
    "  \n",
    "rev_vsAllComp={'cust_id':ids,'reviews':reviews,'stars':stars} #converting the reviews list into a dictionary\n",
    "review_data_vsAllComp=pd.DataFrame.from_dict(rev_vsAllComp).drop_duplicates() #converting this dictionary into a dataframe\n",
    "review_data_vsAllComp.to_csv('FireTV reviews vs All Competitors.csv',index=False)\n",
    "\n",
    "\n",
    "#Fire Tv Reviews Chromecast\n",
    "reviews=[] \n",
    "stars=[]\n",
    "ids=[]\n",
    "keywords=['Chromecast']\n",
    "\n",
    "for keyword in keywords:\n",
    "    for i in range(30):\n",
    "        AmazonResponse = requests.get(\"https://www.amazon.com/product-reviews/B079QHML21/ref=cm_cr_arp_d_viewopt_kywd?ie=UTF8&reviewerType=avp_only_reviews&filterByKeyword=\"+keyword+\"&pageNumber=\"+str(i), headers=headers)\n",
    "        soup=BeautifulSoup(AmazonResponse.content)\n",
    "        for j in soup.findAll(\"i\",{'data-hook':\"review-star-rating\"}):\n",
    "            stars.append(int(j.text[0]))\n",
    "        for k in soup.findAll(\"span\",{'data-hook':\"review-body\"}):\n",
    "            reviews.append(k.text.replace('\\n\\n ',''))\n",
    "        for x in soup.findAll(\"div\",{\"class\":\"a-section a-spacing-none review-comments\"}):\n",
    "            ids.append(str(x).replace('<div class=\"a-section a-spacing-none review-comments\" id=\"','').replace('\"></div>',''))\n",
    "\n",
    "    for i in range(30):\n",
    "        AmazonResponse = requests.get(\"https://www.amazon.com/product-reviews/B07ZZVX1F2/ref=cm_cr_arp_d_viewopt_kywd?ie=UTF8&reviewerType=avp_only_reviews&filterByKeyword=\"+keyword+\"&pageNumber=\"+str(i), headers=headers)\n",
    "        soup=BeautifulSoup(AmazonResponse.content)\n",
    "        for j in soup.findAll(\"i\",{'data-hook':\"review-star-rating\"}):\n",
    "            stars.append(int(j.text[0]))\n",
    "        for k in soup.findAll(\"span\",{'data-hook':\"review-body\"}):\n",
    "            reviews.append(k.text.replace('\\n\\n ',''))\n",
    "        for x in soup.findAll(\"div\",{\"class\":\"a-section a-spacing-none review-comments\"}):\n",
    "            ids.append(str(x).replace('<div class=\"a-section a-spacing-none review-comments\" id=\"','').replace('\"></div>',''))\n",
    "        \n",
    "\n",
    "  \n",
    "rev_vsCC={'cust_id':ids,'reviews':reviews,'stars':stars} #converting the reviews list into a dictionary\n",
    "review_data_vsCC=pd.DataFrame.from_dict(rev_vsCC).drop_duplicates() #converting this dictionary into a dataframe\n",
    "review_data_vsCC.to_csv('FireTV reviews vs Chromecast.csv',index=False)\n",
    "\n",
    "\n",
    "#Fire Tv Reviews Roku\n",
    "reviews=[] \n",
    "stars=[]\n",
    "ids=[]\n",
    "keywords=['Roku']\n",
    "\n",
    "for keyword in keywords:\n",
    "    for i in range(30):\n",
    "        AmazonResponse = requests.get(\"https://www.amazon.com/product-reviews/B079QHML21/ref=cm_cr_arp_d_viewopt_kywd?ie=UTF8&reviewerType=avp_only_reviews&filterByKeyword=\"+keyword+\"&pageNumber=\"+str(i), headers=headers)\n",
    "        soup=BeautifulSoup(AmazonResponse.content)\n",
    "        for j in soup.findAll(\"i\",{'data-hook':\"review-star-rating\"}):\n",
    "            stars.append(int(j.text[0]))\n",
    "        for k in soup.findAll(\"span\",{'data-hook':\"review-body\"}):\n",
    "            reviews.append(k.text.replace('\\n\\n ',''))\n",
    "        for x in soup.findAll(\"div\",{\"class\":\"a-section a-spacing-none review-comments\"}):\n",
    "            ids.append(str(x).replace('<div class=\"a-section a-spacing-none review-comments\" id=\"','').replace('\"></div>',''))\n",
    "\n",
    "    for i in range(30):\n",
    "        AmazonResponse = requests.get(\"https://www.amazon.com/product-reviews/B07ZZVX1F2/ref=cm_cr_arp_d_viewopt_kywd?ie=UTF8&reviewerType=avp_only_reviews&filterByKeyword=\"+keyword+\"&pageNumber=\"+str(i), headers=headers)\n",
    "        soup=BeautifulSoup(AmazonResponse.content)\n",
    "        for j in soup.findAll(\"i\",{'data-hook':\"review-star-rating\"}):\n",
    "            stars.append(int(j.text[0]))\n",
    "        for k in soup.findAll(\"span\",{'data-hook':\"review-body\"}):\n",
    "            reviews.append(k.text.replace('\\n\\n ',''))\n",
    "        for x in soup.findAll(\"div\",{\"class\":\"a-section a-spacing-none review-comments\"}):\n",
    "            ids.append(str(x).replace('<div class=\"a-section a-spacing-none review-comments\" id=\"','').replace('\"></div>',''))\n",
    "        \n",
    "\n",
    "  \n",
    "rev_vsRK={'cust_id':ids,'reviews':reviews,'stars':stars} #converting the reviews list into a dictionary\n",
    "review_data_vsRK=pd.DataFrame.from_dict(rev_vsRK).drop_duplicates() #converting this dictionary into a dataframe\n",
    "review_data_vsRK.to_csv('FireTV reviews vs Roku.csv',index=False)\n",
    "\n",
    "\n",
    "#Fire Tv Reviews Roku\n",
    "reviews=[] \n",
    "stars=[]\n",
    "ids=[]\n",
    "keywords=['Apple TV']\n",
    "\n",
    "for keyword in keywords:\n",
    "    for i in range(30):\n",
    "        AmazonResponse = requests.get(\"https://www.amazon.com/product-reviews/B079QHML21/ref=cm_cr_arp_d_viewopt_kywd?ie=UTF8&reviewerType=avp_only_reviews&filterByKeyword=\"+keyword+\"&pageNumber=\"+str(i), headers=headers)\n",
    "        soup=BeautifulSoup(AmazonResponse.content)\n",
    "        for j in soup.findAll(\"i\",{'data-hook':\"review-star-rating\"}):\n",
    "            stars.append(int(j.text[0]))\n",
    "        for k in soup.findAll(\"span\",{'data-hook':\"review-body\"}):\n",
    "            reviews.append(k.text.replace('\\n\\n ',''))\n",
    "        for x in soup.findAll(\"div\",{\"class\":\"a-section a-spacing-none review-comments\"}):\n",
    "            ids.append(str(x).replace('<div class=\"a-section a-spacing-none review-comments\" id=\"','').replace('\"></div>',''))\n",
    "\n",
    "    for i in range(30):\n",
    "        AmazonResponse = requests.get(\"https://www.amazon.com/product-reviews/B07ZZVX1F2/ref=cm_cr_arp_d_viewopt_kywd?ie=UTF8&reviewerType=avp_only_reviews&filterByKeyword=\"+keyword+\"&pageNumber=\"+str(i), headers=headers)\n",
    "        soup=BeautifulSoup(AmazonResponse.content)\n",
    "        for j in soup.findAll(\"i\",{'data-hook':\"review-star-rating\"}):\n",
    "            stars.append(int(j.text[0]))\n",
    "        for k in soup.findAll(\"span\",{'data-hook':\"review-body\"}):\n",
    "            reviews.append(k.text.replace('\\n\\n ',''))\n",
    "        for x in soup.findAll(\"div\",{\"class\":\"a-section a-spacing-none review-comments\"}):\n",
    "            ids.append(str(x).replace('<div class=\"a-section a-spacing-none review-comments\" id=\"','').replace('\"></div>',''))\n",
    "        \n",
    "\n",
    "  \n",
    "rev_vsAT={'cust_id':ids,'reviews':reviews,'stars':stars} #converting the reviews list into a dictionary\n",
    "review_data_vsAT=pd.DataFrame.from_dict(rev_vsAT).drop_duplicates() #converting this dictionary into a dataframe\n",
    "review_data_vsAT.to_csv('FireTV reviews vs Apple TV.csv',index=False)"
   ]
  },
  {
   "cell_type": "code",
   "execution_count": 58,
   "metadata": {},
   "outputs": [
    {
     "data": {
      "text/plain": [
       "stars\n",
       "1    10.505451\n",
       "2     6.144698\n",
       "3    12.388503\n",
       "4    18.235877\n",
       "5    52.725471\n",
       "dtype: float64"
      ]
     },
     "execution_count": 58,
     "metadata": {},
     "output_type": "execute_result"
    }
   ],
   "source": [
    "review_data_hci.groupby(['stars']).size()\n",
    "hci_stars = review_data_hci.groupby(['stars']).size()\n",
    "100*hci_stars/review_data_hci['stars'].count()"
   ]
  },
  {
   "cell_type": "code",
   "execution_count": 36,
   "metadata": {
    "scrolled": true
   },
   "outputs": [
    {
     "data": {
      "text/plain": [
       "stars\n",
       "1    21.086957\n",
       "2     7.826087\n",
       "3    13.333333\n",
       "4    15.434783\n",
       "5    42.318841\n",
       "dtype: float64"
      ]
     },
     "execution_count": 36,
     "metadata": {},
     "output_type": "execute_result"
    }
   ],
   "source": [
    "review_data_overall.groupby(['stars']).size()\n",
    "overall_stars = review_data_overall.groupby(['stars']).size()\n",
    "100*overall_stars/review_data_overall['stars'].count()"
   ]
  },
  {
   "cell_type": "code",
   "execution_count": 20,
   "metadata": {},
   "outputs": [
    {
     "data": {
      "text/plain": [
       "stars\n",
       "1    16.846473\n",
       "2     8.630705\n",
       "3    11.950207\n",
       "4    13.941909\n",
       "5    48.630705\n",
       "dtype: float64"
      ]
     },
     "execution_count": 20,
     "metadata": {},
     "output_type": "execute_result"
    }
   ],
   "source": [
    "review_data_vsAllComp.groupby(['stars']).size()\n",
    "vsAllComp_stars = review_data_vsAllComp.groupby(['stars']).size()\n",
    "100*vsAllComp_stars/review_data_vsAllComp['stars'].count()"
   ]
  },
  {
   "cell_type": "code",
   "execution_count": 21,
   "metadata": {},
   "outputs": [
    {
     "data": {
      "text/plain": [
       "stars\n",
       "1    13.719512\n",
       "2     6.707317\n",
       "3    10.670732\n",
       "4    14.024390\n",
       "5    54.878049\n",
       "dtype: float64"
      ]
     },
     "execution_count": 21,
     "metadata": {},
     "output_type": "execute_result"
    }
   ],
   "source": [
    "review_data_vsCC.groupby(['stars']).size()\n",
    "vsCC_stars = review_data_vsCC.groupby(['stars']).size()\n",
    "100*vsCC_stars/review_data_vsCC['stars'].count()"
   ]
  },
  {
   "cell_type": "code",
   "execution_count": 22,
   "metadata": {},
   "outputs": [
    {
     "data": {
      "text/plain": [
       "stars\n",
       "1    19.655172\n",
       "2     9.137931\n",
       "3    14.137931\n",
       "4    14.137931\n",
       "5    42.931034\n",
       "dtype: float64"
      ]
     },
     "execution_count": 22,
     "metadata": {},
     "output_type": "execute_result"
    }
   ],
   "source": [
    "review_data_vsRK.groupby(['stars']).size()\n",
    "vsRK_stars = review_data_vsRK.groupby(['stars']).size()\n",
    "100*vsRK_stars/review_data_vsRK['stars'].count()"
   ]
  },
  {
   "cell_type": "code",
   "execution_count": 23,
   "metadata": {},
   "outputs": [
    {
     "data": {
      "text/plain": [
       "stars\n",
       "1    14.021164\n",
       "2     8.994709\n",
       "3    10.846561\n",
       "4    14.285714\n",
       "5    51.851852\n",
       "dtype: float64"
      ]
     },
     "execution_count": 23,
     "metadata": {},
     "output_type": "execute_result"
    }
   ],
   "source": [
    "review_data_vsAT.groupby(['stars']).size()\n",
    "vsAT_stars = review_data_vsAT.groupby(['stars']).size()\n",
    "100*vsAT_stars/review_data_vsAT['stars'].count()"
   ]
  },
  {
   "cell_type": "code",
   "execution_count": null,
   "metadata": {},
   "outputs": [],
   "source": []
  },
  {
   "cell_type": "code",
   "execution_count": 51,
   "metadata": {},
   "outputs": [],
   "source": [
    "review_samples_overall = pd.concat([review_data_overall[review_data_overall['stars']==1].sample(n = 5),\n",
    "                                     review_data_overall[review_data_overall['stars']==2].sample(n = 5),\n",
    "                                     review_data_overall[review_data_overall['stars']==3].sample(n = 5),\n",
    "                                     review_data_overall[review_data_overall['stars']==4].sample(n = 5),\n",
    "                                     review_data_overall[review_data_overall['stars']==5].sample(n = 5)])\n",
    "review_samples_overall.to_csv('FireTV Review Samples Overall.csv',index=False)"
   ]
  },
  {
   "cell_type": "code",
   "execution_count": 52,
   "metadata": {},
   "outputs": [],
   "source": [
    "review_samples_hci = pd.concat([review_data_hci[review_data_hci['stars']==1].sample(n = 5),\n",
    "                                     review_data_hci[review_data_hci['stars']==2].sample(n = 5),\n",
    "                                     review_data_hci[review_data_hci['stars']==3].sample(n = 5),\n",
    "                                     review_data_hci[review_data_hci['stars']==4].sample(n = 5),\n",
    "                                     review_data_hci[review_data_hci['stars']==5].sample(n = 5)])\n",
    "review_samples_hci.to_csv('FireTV Review Samples Interface.csv',index=False)"
   ]
  },
  {
   "cell_type": "code",
   "execution_count": 53,
   "metadata": {},
   "outputs": [],
   "source": [
    "review_samples_vsAllComp = pd.concat([review_data_vsAllComp[review_data_vsAllComp['stars']==1].sample(n = 5),\n",
    "                                     review_data_vsAllComp[review_data_vsAllComp['stars']==2].sample(n = 5),\n",
    "                                     review_data_vsAllComp[review_data_vsAllComp['stars']==3].sample(n = 5),\n",
    "                                     review_data_vsAllComp[review_data_vsAllComp['stars']==4].sample(n = 5),\n",
    "                                     review_data_vsAllComp[review_data_vsAllComp['stars']==5].sample(n = 5)])\n",
    "review_samples_vsAllComp.to_csv('FireTV Review Samples vs All Competitors.csv',index=False)"
   ]
  },
  {
   "cell_type": "code",
   "execution_count": 54,
   "metadata": {},
   "outputs": [],
   "source": [
    "review_samples_vsCC = pd.concat([review_data_vsCC[review_data_vsCC['stars']==1].sample(n = 5),\n",
    "                                     review_data_vsCC[review_data_vsCC['stars']==2].sample(n = 5),\n",
    "                                     review_data_vsCC[review_data_vsCC['stars']==3].sample(n = 5),\n",
    "                                     review_data_vsCC[review_data_vsCC['stars']==4].sample(n = 5),\n",
    "                                     review_data_vsCC[review_data_vsCC['stars']==5].sample(n = 5)])\n",
    "review_samples_vsCC.to_csv('FireTV Review Samples vs Chromecast.csv',index=False)"
   ]
  },
  {
   "cell_type": "code",
   "execution_count": 55,
   "metadata": {},
   "outputs": [],
   "source": [
    "review_samples_vsRK = pd.concat([review_data_vsRK[review_data_vsRK['stars']==1].sample(n = 5),\n",
    "                                     review_data_vsRK[review_data_vsRK['stars']==2].sample(n = 5),\n",
    "                                     review_data_vsRK[review_data_vsRK['stars']==3].sample(n = 5),\n",
    "                                     review_data_vsRK[review_data_vsRK['stars']==4].sample(n = 5),\n",
    "                                     review_data_vsRK[review_data_vsRK['stars']==5].sample(n = 5)])\n",
    "review_samples_vsRK.to_csv('FireTV Review Samples vs Roku.csv',index=False)"
   ]
  },
  {
   "cell_type": "code",
   "execution_count": 57,
   "metadata": {},
   "outputs": [],
   "source": [
    "review_samples_vsAT = pd.concat([review_data_vsAT[review_data_vsAT['stars']==1].sample(n = 5),\n",
    "                                     review_data_vsAT[review_data_vsAT['stars']==2].sample(n = 5),\n",
    "                                     review_data_vsAT[review_data_vsAT['stars']==3].sample(n = 5),\n",
    "                                     review_data_vsAT[review_data_vsAT['stars']==4].sample(n = 5),\n",
    "                                     review_data_vsAT[review_data_vsAT['stars']==5].sample(n = 5)])\n",
    "review_samples_vsAT.to_csv('FireTV Review Samples vs Apple TV.csv',index=False)"
   ]
  },
  {
   "cell_type": "code",
   "execution_count": null,
   "metadata": {},
   "outputs": [],
   "source": []
  },
  {
   "cell_type": "code",
   "execution_count": null,
   "metadata": {},
   "outputs": [],
   "source": []
  },
  {
   "cell_type": "code",
   "execution_count": null,
   "metadata": {},
   "outputs": [],
   "source": []
  }
 ],
 "metadata": {
  "kernelspec": {
   "display_name": "Python 3",
   "language": "python",
   "name": "python3"
  },
  "language_info": {
   "codemirror_mode": {
    "name": "ipython",
    "version": 3
   },
   "file_extension": ".py",
   "mimetype": "text/x-python",
   "name": "python",
   "nbconvert_exporter": "python",
   "pygments_lexer": "ipython3",
   "version": "3.7.3"
  }
 },
 "nbformat": 4,
 "nbformat_minor": 2
}
